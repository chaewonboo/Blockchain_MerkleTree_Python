{
 "cells": [
  {
   "cell_type": "code",
   "execution_count": 1,
   "metadata": {},
   "outputs": [],
   "source": [
    "# 머클트리 생성!------------------------------"
   ]
  },
  {
   "cell_type": "code",
   "execution_count": 2,
   "metadata": {},
   "outputs": [],
   "source": [
    "#!/usr/bin/python3\n",
    "import hashlib,sys"
   ]
  },
  {
   "cell_type": "code",
   "execution_count": 3,
   "metadata": {},
   "outputs": [],
   "source": [
    "class MerkleTreeNode:\n",
    "    def __init__(self,value):\n",
    "        self.left = None\n",
    "        self.right = None\n",
    "        self.value = value\n",
    "        self.hashValue = hashlib.sha256(value.encode('utf-8')).hexdigest()"
   ]
  },
  {
   "cell_type": "code",
   "execution_count": 4,
   "metadata": {},
   "outputs": [],
   "source": [
    "def buildTree(leaves,f):\n",
    "    nodes = []\n",
    "    for i in leaves:\n",
    "        nodes.append(MerkleTreeNode(i))\n",
    "\n",
    "    while len(nodes)!=1:\n",
    "        temp = []\n",
    "        for i in range(0,len(nodes),2):\n",
    "            node1 = nodes[i]\n",
    "            if i+1 < len(nodes):\n",
    "                node2 = nodes[i+1]\n",
    "            else:\n",
    "                temp.append(nodes[i])\n",
    "                break\n",
    "            f.write(\"Left child : \"+ node1.value + \" | Hash : \" + node1.hashValue +\" \\n\")\n",
    "            f.write(\"Right child : \"+ node2.value + \" | Hash : \" + node2.hashValue +\" \\n\")\n",
    "            print(\"Left child : \"+ node1.value + \" | Hash : \" + node1.hashValue +\" \\n\")\n",
    "            print(\"Right child : \"+ node2.value + \" | Hash : \" + node2.hashValue +\" \\n\")\n",
    "            concatenatedHash = node1.hashValue + node2.hashValue\n",
    "            parent = MerkleTreeNode(concatenatedHash)\n",
    "            parent.left = node1\n",
    "            parent.right = node2\n",
    "            f.write(\"Parent(concatenation of \"+ node1.value + \" and \" + node2.value + \") : \" +parent.value + \" | Hash : \" + parent.hashValue +\" \\n\")\n",
    "            print(\"Parent(concatenation of \"+ node1.value + \" and \" + node2.value + \") : \" +parent.value + \" \\n| Hash : \" + parent.hashValue +\" \\n\")\n",
    "            temp.append(parent)\n",
    "        nodes = temp \n",
    "    return nodes[0]"
   ]
  },
  {
   "cell_type": "code",
   "execution_count": 5,
   "metadata": {},
   "outputs": [],
   "source": [
    "inputString = \"Tony,Scott,Wonboo\"\n",
    "leavesString = inputString[0:len(inputString)]\n",
    "leaves = leavesString.split(\",\")"
   ]
  },
  {
   "cell_type": "code",
   "execution_count": 6,
   "metadata": {
    "scrolled": false
   },
   "outputs": [
    {
     "name": "stdout",
     "output_type": "stream",
     "text": [
      "Left child : Tony | Hash : c5a8d95238cd3ee8c28a86b7ef8553a7c27ac016577c7717b52c69fa4f721b7f \n",
      "\n",
      "Right child : Scott | Hash : 626928c4f868fb629afad5ef9afb1cd19f25b1f0f80924f3ae1dbe5a8f8b8471 \n",
      "\n",
      "Parent(concatenation of Tony and Scott) : c5a8d95238cd3ee8c28a86b7ef8553a7c27ac016577c7717b52c69fa4f721b7f626928c4f868fb629afad5ef9afb1cd19f25b1f0f80924f3ae1dbe5a8f8b8471 \n",
      "| Hash : 8a092ace015634a60328658ccca894a3c074a10458f7f937e819543c66ec1996 \n",
      "\n",
      "Left child : c5a8d95238cd3ee8c28a86b7ef8553a7c27ac016577c7717b52c69fa4f721b7f626928c4f868fb629afad5ef9afb1cd19f25b1f0f80924f3ae1dbe5a8f8b8471 | Hash : 8a092ace015634a60328658ccca894a3c074a10458f7f937e819543c66ec1996 \n",
      "\n",
      "Right child : Wonboo | Hash : b6be24ac7ae6a75c9c14d9fdc0391d6a2e14bf1ff9256be35df321105d498373 \n",
      "\n",
      "Parent(concatenation of c5a8d95238cd3ee8c28a86b7ef8553a7c27ac016577c7717b52c69fa4f721b7f626928c4f868fb629afad5ef9afb1cd19f25b1f0f80924f3ae1dbe5a8f8b8471 and Wonboo) : 8a092ace015634a60328658ccca894a3c074a10458f7f937e819543c66ec1996b6be24ac7ae6a75c9c14d9fdc0391d6a2e14bf1ff9256be35df321105d498373 \n",
      "| Hash : 563699a265d8580d81e1a10cacbfe54042a022ac2913f16c62fd321b544cd3cc \n",
      "\n"
     ]
    }
   ],
   "source": [
    "f = open(\"merkle.tree\", \"w\")\n",
    "root = buildTree(leaves,f)\n",
    "f.close()"
   ]
  },
  {
   "cell_type": "code",
   "execution_count": 7,
   "metadata": {},
   "outputs": [],
   "source": [
    "# --------------------------------------------------------"
   ]
  },
  {
   "cell_type": "code",
   "execution_count": 8,
   "metadata": {},
   "outputs": [],
   "source": [
    "#머클트리 요소 검사---------------------------------------"
   ]
  },
  {
   "cell_type": "code",
   "execution_count": 9,
   "metadata": {},
   "outputs": [],
   "source": [
    "#!/usr/bin/python3\n",
    "import ast,sys,hashlib"
   ]
  },
  {
   "cell_type": "code",
   "execution_count": 10,
   "metadata": {},
   "outputs": [],
   "source": [
    "def parseFile():\n",
    "    f = open(\"merkle.tree\",\"r\")\n",
    "    tree ={}\n",
    "    for line in f:\n",
    "        lineArray = line.split(\" \")\n",
    "        if lineArray[0] == 'Parent(concatenation':\n",
    "            tree[lineArray[6]] = lineArray[10]\n",
    "        else:\n",
    "            tree[lineArray[3]] = lineArray[7]\n",
    "    return tree"
   ]
  },
  {
   "cell_type": "code",
   "execution_count": 11,
   "metadata": {},
   "outputs": [],
   "source": [
    "def checkInclusion(inputString,tree):\n",
    "    op = []\n",
    "    for key,value in tree.items():\n",
    "        #if inputString in key:\n",
    "        if inputString == key:\n",
    "            print(key)\n",
    "            op.append(value)\n",
    "            inputString = value\n",
    " \n",
    "    return op"
   ]
  },
  {
   "cell_type": "code",
   "execution_count": null,
   "metadata": {},
   "outputs": [
    {
     "name": "stdout",
     "output_type": "stream",
     "text": [
      "Leaf node rjator : Tony\n",
      "Tony\n",
      "yes : Validation Success ['c5a8d95238cd3ee8c28a86b7ef8553a7c27ac016577c7717b52c69fa4f721b7f']\n"
     ]
    }
   ],
   "source": [
    "#inputString = \"bob\"\n",
    "while inputString != \"x\":\n",
    "    inputString = input(\"Leaf node rjator : \")\n",
    "    tree = parseFile()\n",
    "    op = checkInclusion(inputString,tree)\n",
    "    if(len(op)> 0):\n",
    "        print(\"yes : Validation Success\",op)\n",
    "    else:\n",
    "        print(\"no : Validation Fail\")\n",
    "inputString = \"stop\"\n",
    "print(inputString)\n"
   ]
  },
  {
   "cell_type": "code",
   "execution_count": null,
   "metadata": {},
   "outputs": [],
   "source": [
    "#validator들이 만든 서로다른 머클트리 검증"
   ]
  }
 ],
 "metadata": {
  "kernelspec": {
   "display_name": "Python 3",
   "language": "python",
   "name": "python3"
  },
  "language_info": {
   "codemirror_mode": {
    "name": "ipython",
    "version": 3
   },
   "file_extension": ".py",
   "mimetype": "text/x-python",
   "name": "python",
   "nbconvert_exporter": "python",
   "pygments_lexer": "ipython3",
   "version": "3.8.5"
  }
 },
 "nbformat": 4,
 "nbformat_minor": 4
}
