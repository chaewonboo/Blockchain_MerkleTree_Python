{
 "cells": [
  {
   "cell_type": "code",
   "execution_count": 1,
   "metadata": {},
   "outputs": [],
   "source": [
    "#validator들이 만든 서로다른 머클트리 검증"
   ]
  },
  {
   "cell_type": "code",
   "execution_count": 1,
   "metadata": {},
   "outputs": [],
   "source": [
    "import hashlib,sys\n",
    "    \n",
    "class MerkleTreeNode:\n",
    "    def __init__(self,value):\n",
    "        self.left = None\n",
    "        self.right = None\n",
    "        self.value = value\n",
    "        self.hashValue = getHashValue(value)"
   ]
  },
  {
   "cell_type": "code",
   "execution_count": 2,
   "metadata": {},
   "outputs": [],
   "source": [
    "def buildTree(leaves,f):\n",
    "    nodes = []\n",
    "    for i in leaves:\n",
    "        nodes.append(MerkleTreeNode(i))\n",
    "\n",
    "    while len(nodes)!=1:\n",
    "        temp = []\n",
    "        for i in range(0,len(nodes),2):\n",
    "            node1 = nodes[i]\n",
    "            if i+1 < len(nodes):\n",
    "                node2 = nodes[i+1]\n",
    "            else:\n",
    "                temp.append(nodes[i])\n",
    "                break\n",
    "            f.write(\"Left child : \"+ node1.value + \" | Hash : \" + node1.hashValue +\" \\n\")\n",
    "            f.write(\"Right child : \"+ node2.value + \" | Hash : \" + node2.hashValue +\" \\n\")\n",
    "            concatenatedHash = node1.hashValue + node2.hashValue\n",
    "            parent = MerkleTreeNode(concatenatedHash)\n",
    "            parent.left = node1\n",
    "            parent.right = node2\n",
    "            f.write(\"Parent(concatenation of \"+ node1.value + \" and \" + node2.value + \") : \" +parent.value + \" | Hash : \" + parent.hashValue +\" \\n\")\n",
    "            temp.append(parent)\n",
    "        nodes = temp \n",
    "    return nodes[0]"
   ]
  },
  {
   "cell_type": "code",
   "execution_count": 3,
   "metadata": {},
   "outputs": [],
   "source": [
    "def getHashValue(value):\n",
    "    return hashlib.sha256(value.encode('utf-8')).hexdigest()"
   ]
  },
  {
   "cell_type": "code",
   "execution_count": 4,
   "metadata": {},
   "outputs": [],
   "source": [
    "def combined(value1,value2):\n",
    "    combinedValue = value1+value2\n",
    "    return combinedValue"
   ]
  },
  {
   "cell_type": "code",
   "execution_count": 5,
   "metadata": {},
   "outputs": [],
   "source": [
    "def checkConsistency(leaves1,leaves2):\n",
    "    i=0\n",
    "    while i<len(leaves1):\n",
    "        if leaves1[i]!=leaves2[i]:\n",
    "            break\n",
    "        i+=1\n",
    "    if i < len(leaves1):\n",
    "        return []\n",
    "    f = open(\"merkle.trees\", \"w\")\n",
    "    f.write(\"Merkle Tree 1 \\n\")\n",
    "    root1 = buildTree(leaves1,f)\n",
    "    f.write(\"\\n\\n\")\n",
    "    f.write(\"Merkle Tree 2 \\n\")\n",
    "    root2 = buildTree(leaves2,f)\n",
    "    f.close()\n",
    "    op = []\n",
    "    op.append(root1.hashValue)\n",
    "    with open(\"merkle.trees\") as f:\n",
    "        data = f.readlines()\n",
    "    \n",
    "    tree2Index = 0\n",
    "    for i in range(len(data)):\n",
    "        if data[i].startswith(\"Merkle Tree 2\"):\n",
    "            tree2Index = i\n",
    "    parentLines = []\n",
    "    leftChildLines = []\n",
    "    rightChildLines = []\n",
    "    for i in range(tree2Index,len(data)):\n",
    "        if data[i].startswith(\"Parent(\"):\n",
    "            parentLines.append(data[i])\n",
    "    \n",
    "    for i in range(tree2Index,len(data)):\n",
    "        if data[i].startswith(\"Left\"):\n",
    "            leftChildLines.append(data[i])\n",
    "\n",
    "    for i in range(tree2Index,len(data)):\n",
    "        if data[i].startswith(\"Right\"):\n",
    "            rightChildLines.append(data[i])  \n",
    "    op = []\n",
    "    flag = False\n",
    "    for i in range(len(parentLines)):\n",
    "        if root1.hashValue in parentLines[i]:\n",
    "            flag = True\n",
    "            break\n",
    "    if flag:\n",
    "        values = []    \n",
    "        combinedHash = ''\n",
    "        lc = root1.value\n",
    "        while combinedHash != root2.hashValue:\n",
    "            for i in range(len(leftChildLines)):\n",
    "                if lc in leftChildLines[i].split(\" \")[-6]:\n",
    "                    rc = rightChildLines[i].split(\" \")[-6]\n",
    "                    values.append(getHashValue(rc))\n",
    "                    break\n",
    "            combinedValue = combined(getHashValue(lc),getHashValue(rc))\n",
    "            combinedHash = getHashValue(combinedValue)\n",
    "            lc = combinedValue\n",
    "            \n",
    "        op.append(root1.hashValue)\n",
    "        op+=values\n",
    "        op.append(root2.hashValue)\n",
    "                \n",
    "    else:\n",
    "        root1LeftChildValue = data[tree2Index-5].split(\" \")[-6]\n",
    "        root1RightChildValue = data[tree2Index-4].split(\" \")[-6]\n",
    "        root1RightChildSiblingValue = leaves2[leaves2.index(root1RightChildValue)+1]\n",
    "        values = []\n",
    "        values.append(getHashValue(root1LeftChildValue))\n",
    "        values.append(getHashValue(root1RightChildValue))\n",
    "        values.append(getHashValue(root1RightChildSiblingValue))\n",
    "        root1RightChildCombinedValue = combined(getHashValue(root1RightChildValue),getHashValue(root1RightChildSiblingValue))        \n",
    "        combinedHash = ''\n",
    "        lc = root1LeftChildValue\n",
    "        rc = root1RightChildCombinedValue\n",
    "        while combinedHash != root2.hashValue:\n",
    "            combinedValue = combined(getHashValue(lc),getHashValue(rc))\n",
    "            combinedHash = getHashValue(combinedValue)\n",
    "            lc = combinedValue\n",
    "            for i in range(len(leftChildLines)):\n",
    "                if lc in leftChildLines[i].split(\" \")[-6]:\n",
    "                    rc = rightChildLines[i].split(\" \")[-6]\n",
    "                    values.append(getHashValue(rc))\n",
    "                    break\n",
    "            \n",
    "        op.append(root1.hashValue)\n",
    "        op+=values\n",
    "        op.append(root2.hashValue)\n",
    "                \n",
    "    return op"
   ]
  },
  {
   "cell_type": "code",
   "execution_count": 8,
   "metadata": {},
   "outputs": [
    {
     "name": "stdout",
     "output_type": "stream",
     "text": [
      "No\n"
     ]
    }
   ],
   "source": [
    "inputString1 = \"aice,bob,carlol,david\"\n",
    "inputString2 = \"alice,bob,carlol,david,eve,fred\"\n",
    "leavesString1 = inputString1[0:len(inputString1)]\n",
    "leaves1 = leavesString1.split(\",\")\n",
    "leavesString2 = inputString2[0:len(inputString2)]\n",
    "leaves2 = leavesString2.split(\",\")\n",
    "\n",
    "op = checkConsistency(leaves1,leaves2)\n",
    "if len(op) > 0:\n",
    "    print(\"Yes\",op)\n",
    "else:\n",
    "    print(\"No\")\n"
   ]
  },
  {
   "cell_type": "code",
   "execution_count": null,
   "metadata": {},
   "outputs": [],
   "source": []
  }
 ],
 "metadata": {
  "kernelspec": {
   "display_name": "Python 3",
   "language": "python",
   "name": "python3"
  },
  "language_info": {
   "codemirror_mode": {
    "name": "ipython",
    "version": 3
   },
   "file_extension": ".py",
   "mimetype": "text/x-python",
   "name": "python",
   "nbconvert_exporter": "python",
   "pygments_lexer": "ipython3",
   "version": "3.8.5"
  }
 },
 "nbformat": 4,
 "nbformat_minor": 4
}
